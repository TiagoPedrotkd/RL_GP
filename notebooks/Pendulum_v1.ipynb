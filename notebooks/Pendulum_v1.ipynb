{
 "cells": [
  {
   "cell_type": "markdown",
   "id": "cf827dc8-c059-40d5-a471-bed7ba59d5e6",
   "metadata": {},
   "source": [
    "#  Pendulum-v1 · Discretised Q-Learning & SARSA"
   ]
  },
  {
   "cell_type": "code",
   "execution_count": 471,
   "id": "d2ecb943-b1d4-4502-ba9c-32a4d08a1350",
   "metadata": {},
   "outputs": [],
   "source": [
    "import gymnasium as gym\n",
    "import numpy as np\n",
    "import pandas as pd\n",
    "import matplotlib.pyplot as plt\n",
    "from collections import defaultdict\n",
    "from tqdm.notebook import tqdm\n",
    "import math, time"
   ]
  },
  {
   "cell_type": "code",
   "execution_count": 473,
   "id": "ba4e992c-16b8-44d7-8f03-a9ac0f77c150",
   "metadata": {},
   "outputs": [],
   "source": [
    "# ─────────────────────────────────────────────────────────────────────────\n",
    "# Global discretisation parameters\n",
    "# ─────────────────────────────────────────────────────────────────────────\n",
    "DISCRETE_BUCKETS = [25, 25]                 # [angle buckets, velocity buckets]  \n",
    "DISCRETE_ACTIONS = np.linspace(-2, 2, 5)     # im not sure if we should use 5 or more...\n",
    "N_ACTIONS = len(DISCRETE_ACTIONS)\n",
    "\n",
    "# Helper 1: discretised_state()  \n",
    "def discretised_state(DISCRETE_BUCKETS, observation):\n",
    "    \"\"\"Map continuous (cos theta, sin theta, theta_dot) ➜ discrete (angle_bin, vel_bin).\"\"\"\n",
    "    cos_th, sin_th, th_dot = observation\n",
    "    theta = math.atan2(sin_th, cos_th)              # −pi … pi\n",
    "\n",
    "    # Bucket sizes\n",
    "    WINDOW_ANGLE = (2*math.pi) / DISCRETE_BUCKETS[0]\n",
    "    WINDOW_VEL   = (16.0)       / DISCRETE_BUCKETS[1]   # thetaaa clipped to [−8,8] \n",
    "\n",
    "    angle_bin = int((theta + math.pi) // WINDOW_ANGLE)\n",
    "    vel_bin   = int((th_dot + 8.0)    // WINDOW_VEL)\n",
    "\n",
    "    # Safety clip to bucket range\n",
    "    angle_bin = min(DISCRETE_BUCKETS[0]-1, max(0, angle_bin))\n",
    "    vel_bin   = min(DISCRETE_BUCKETS[1]-1, max(0, vel_bin))\n",
    "\n",
    "    return (angle_bin, vel_bin)\n",
    "\n",
    "# Helper 2: initialise Q-table\n",
    "def initialize_Q_table(env, DISCRETE_BUCKETS, DISCRETE_ACTIONS):\n",
    "    shape = DISCRETE_BUCKETS + [len(DISCRETE_ACTIONS)]\n",
    "    return np.zeros(shape)\n",
    "\n",
    "# Helper 3: eps-greedy \n",
    "def epsilon_greedy_policy(env, discrete_state, Q_table, epsilon=.5):\n",
    "    if np.random.uniform(0,1) < epsilon:\n",
    "        return np.random.randint(len(DISCRETE_ACTIONS))   # random index\n",
    "    else:\n",
    "        return int(np.argmax(Q_table[discrete_state]))    # greedy index"
   ]
  },
  {
   "cell_type": "markdown",
   "id": "76431e45-10fd-4766-aec6-bf47c897c4be",
   "metadata": {},
   "source": [
    "# Temporal-Difference control"
   ]
  },
  {
   "cell_type": "code",
   "execution_count": 511,
   "id": "04f8e234-14e2-407e-97b7-846288d30124",
   "metadata": {},
   "outputs": [],
   "source": [
    "# ─────────────────────────────────────────────────────────────────────────\n",
    "# STEP functions  (SARSA / Q-Learning)\n",
    "# ─────────────────────────────────────────────────────────────────────────\n",
    "def SARSA_STEP(env, DISCRETE_BUCKETS, action_idx, current_q_value,\n",
    "               discrete_state, Q_table, alpha, gamma, epsilon):\n",
    "    \"\"\"\n",
    "    One SARSA transition. Returns:\n",
    "      next_action_idx, next_q_val, next_discrete_state, reward, Done\n",
    "    \"\"\"\n",
    "    # Map action index -> real torque\n",
    "    action_val = float(DISCRETE_ACTIONS[action_idx])\n",
    "    next_obs, r, terminated, truncated, _ = env.step([action_val])\n",
    "    Done = terminated or truncated\n",
    "\n",
    "    if Done:\n",
    "        return 0, 0, 0, r, True\n",
    "\n",
    "    next_discrete = discretised_state(DISCRETE_BUCKETS, next_obs)\n",
    "    next_action   = epsilon_greedy_policy(env, next_discrete, Q_table, epsilon)\n",
    "    next_q_value  = Q_table[next_discrete][next_action]\n",
    "\n",
    "    # Update\n",
    "    new_q = current_q_value + alpha*(r + gamma*next_q_value - current_q_value)\n",
    "    Q_table[discrete_state][action_idx] = new_q\n",
    "\n",
    "    return next_action, next_q_value, next_discrete, r, False\n",
    "\n",
    "\n",
    "def Q_LEARNING_STEP(env, DISCRETE_BUCKETS, action_idx, current_q_value,\n",
    "                    discrete_state, Q_table, alpha, gamma, epsilon):\n",
    "    \"\"\"\n",
    "    One Q-Learning transition. Returns:\n",
    "      next_action_idx, next_q_val, next_discrete_state, reward, Done\n",
    "    \"\"\"\n",
    "    action_val = float(DISCRETE_ACTIONS[action_idx])\n",
    "    next_obs, r, terminated, truncated, _ = env.step([action_val])\n",
    "    Done = terminated or truncated\n",
    "\n",
    "    if Done:\n",
    "        return 0, 0, 0, r, True\n",
    "\n",
    "    next_discrete = discretised_state(DISCRETE_BUCKETS, next_obs)\n",
    "    best_next_q   = np.max(Q_table[next_discrete])\n",
    "\n",
    "    new_q = current_q_value + alpha*(r + gamma*best_next_q - current_q_value)\n",
    "    Q_table[discrete_state][action_idx] = new_q\n",
    "\n",
    "    # next_action chosen purely for exploration policy; not used in update\n",
    "    next_action = epsilon_greedy_policy(env, next_discrete, Q_table, epsilon)\n",
    "    next_q_val  = Q_table[next_discrete][next_action]\n",
    "\n",
    "    return next_action, next_q_val, next_discrete, r, False\n",
    "\n",
    "\n",
    "# ─────────────────────────────────────────────────────────────────────────\n",
    "# Generic TD-control driver \n",
    "# ────────────────────────────────────────────────────────────────────────\n",
    "def TD_control(env, DISCRETE_BUCKETS, STEP_FUNCTION,\n",
    "               num_iterations=1000, alpha=.1, gamma=.99):\n",
    "    \"\"\"\n",
    "    Runs either SARSA or Q-Learning depending on STEP_FUNCTION supplied.\n",
    "    Returns Q_table and a DataFrame of episode metrics.\n",
    "    \"\"\"\n",
    "    RETURN_LIST = []\n",
    "    EPSILON = 1.0\n",
    "    EPSILON_DECAY = EPSILON / num_iterations\n",
    "\n",
    "    Q_table = initialize_Q_table(env, DISCRETE_BUCKETS, DISCRETE_ACTIONS)\n",
    "\n",
    "    for ep in tqdm(range(num_iterations)):\n",
    "        discrete_state = discretised_state(DISCRETE_BUCKETS, env.reset()[0])\n",
    "        action_idx     = epsilon_greedy_policy(env, discrete_state, Q_table, EPSILON)\n",
    "        current_q_val  = Q_table[discrete_state][action_idx]\n",
    "\n",
    "        CUMULATIVE_REWARD = 0\n",
    "        STEP = 0\n",
    "        Done = False\n",
    "\n",
    "        while not Done:\n",
    "            (action_idx,\n",
    "             current_q_val,\n",
    "             discrete_state,\n",
    "             r,\n",
    "             Done) = STEP_FUNCTION(env, DISCRETE_BUCKETS,\n",
    "                                   action_idx, current_q_val,\n",
    "                                   discrete_state, Q_table,\n",
    "                                   alpha, gamma, EPSILON)\n",
    "            CUMULATIVE_REWARD += r\n",
    "            STEP += 1\n",
    "\n",
    "        RETURN_LIST.append([ep, STEP, CUMULATIVE_REWARD])\n",
    "        EPSILON -= EPSILON_DECAY     # decay exploration\n",
    "\n",
    "    return Q_table, pd.DataFrame(RETURN_LIST, columns=['Episode','N_Steps','Return'])\n"
   ]
  },
  {
   "cell_type": "code",
   "execution_count": null,
   "id": "60ce8f2e-acfb-4a66-b7d5-c2a1214d01f8",
   "metadata": {},
   "outputs": [],
   "source": []
  },
  {
   "cell_type": "markdown",
   "id": "28ae23d6-8acf-4b5e-807e-41d25c0553cb",
   "metadata": {},
   "source": [
    "# Simple hyper-parameter grid-search for Pendulum-v1 "
   ]
  },
  {
   "cell_type": "code",
   "execution_count": 480,
   "id": "f9381ce1-8452-46b4-83e7-af3fd0ece461",
   "metadata": {},
   "outputs": [
    {
     "data": {
      "application/vnd.jupyter.widget-view+json": {
       "model_id": "f68ceef5649a47abb31b047dd868fc66",
       "version_major": 2,
       "version_minor": 0
      },
      "text/plain": [
       "  0%|          | 0/1000 [00:00<?, ?it/s]"
      ]
     },
     "metadata": {},
     "output_type": "display_data"
    },
    {
     "data": {
      "application/vnd.jupyter.widget-view+json": {
       "model_id": "9544c32853bb4600bf3202d59bd700f7",
       "version_major": 2,
       "version_minor": 0
      },
      "text/plain": [
       "  0%|          | 0/1000 [00:00<?, ?it/s]"
      ]
     },
     "metadata": {},
     "output_type": "display_data"
    },
    {
     "data": {
      "application/vnd.jupyter.widget-view+json": {
       "model_id": "b82aa34b1cd44574b423abe45855eaad",
       "version_major": 2,
       "version_minor": 0
      },
      "text/plain": [
       "  0%|          | 0/1000 [00:00<?, ?it/s]"
      ]
     },
     "metadata": {},
     "output_type": "display_data"
    },
    {
     "data": {
      "application/vnd.jupyter.widget-view+json": {
       "model_id": "8a15a8c2f64f4f4bae344300343372a6",
       "version_major": 2,
       "version_minor": 0
      },
      "text/plain": [
       "  0%|          | 0/1000 [00:00<?, ?it/s]"
      ]
     },
     "metadata": {},
     "output_type": "display_data"
    },
    {
     "data": {
      "application/vnd.jupyter.widget-view+json": {
       "model_id": "8bf39e9aeb784707bb584048cd8ea100",
       "version_major": 2,
       "version_minor": 0
      },
      "text/plain": [
       "  0%|          | 0/1000 [00:00<?, ?it/s]"
      ]
     },
     "metadata": {},
     "output_type": "display_data"
    },
    {
     "data": {
      "application/vnd.jupyter.widget-view+json": {
       "model_id": "6d3fcd71733e4039b112a6e3707bb576",
       "version_major": 2,
       "version_minor": 0
      },
      "text/plain": [
       "  0%|          | 0/1000 [00:00<?, ?it/s]"
      ]
     },
     "metadata": {},
     "output_type": "display_data"
    },
    {
     "data": {
      "application/vnd.jupyter.widget-view+json": {
       "model_id": "1f3156d01d7049879013ed964263d3fb",
       "version_major": 2,
       "version_minor": 0
      },
      "text/plain": [
       "  0%|          | 0/1000 [00:00<?, ?it/s]"
      ]
     },
     "metadata": {},
     "output_type": "display_data"
    },
    {
     "data": {
      "application/vnd.jupyter.widget-view+json": {
       "model_id": "6c4a0e80bc114e129258e77a4e55990c",
       "version_major": 2,
       "version_minor": 0
      },
      "text/plain": [
       "  0%|          | 0/1000 [00:00<?, ?it/s]"
      ]
     },
     "metadata": {},
     "output_type": "display_data"
    },
    {
     "data": {
      "application/vnd.jupyter.widget-view+json": {
       "model_id": "8b50ef16bf364abc8f90a4c71c8ce7ca",
       "version_major": 2,
       "version_minor": 0
      },
      "text/plain": [
       "  0%|          | 0/1000 [00:00<?, ?it/s]"
      ]
     },
     "metadata": {},
     "output_type": "display_data"
    },
    {
     "data": {
      "application/vnd.jupyter.widget-view+json": {
       "model_id": "0200cd0a012c49a0ba77c9938fd4df54",
       "version_major": 2,
       "version_minor": 0
      },
      "text/plain": [
       "  0%|          | 0/1000 [00:00<?, ?it/s]"
      ]
     },
     "metadata": {},
     "output_type": "display_data"
    },
    {
     "data": {
      "application/vnd.jupyter.widget-view+json": {
       "model_id": "4113a1b2b7954b568a80bcdd0ca6ec79",
       "version_major": 2,
       "version_minor": 0
      },
      "text/plain": [
       "  0%|          | 0/1000 [00:00<?, ?it/s]"
      ]
     },
     "metadata": {},
     "output_type": "display_data"
    },
    {
     "data": {
      "application/vnd.jupyter.widget-view+json": {
       "model_id": "5dc404df324b43479fdf3310f2d8401c",
       "version_major": 2,
       "version_minor": 0
      },
      "text/plain": [
       "  0%|          | 0/1000 [00:00<?, ?it/s]"
      ]
     },
     "metadata": {},
     "output_type": "display_data"
    },
    {
     "data": {
      "application/vnd.jupyter.widget-view+json": {
       "model_id": "35210e15287644459f2c1038414b3027",
       "version_major": 2,
       "version_minor": 0
      },
      "text/plain": [
       "  0%|          | 0/1000 [00:00<?, ?it/s]"
      ]
     },
     "metadata": {},
     "output_type": "display_data"
    },
    {
     "data": {
      "application/vnd.jupyter.widget-view+json": {
       "model_id": "c8dc2cedddbb4325a6946dbf303f244e",
       "version_major": 2,
       "version_minor": 0
      },
      "text/plain": [
       "  0%|          | 0/1000 [00:00<?, ?it/s]"
      ]
     },
     "metadata": {},
     "output_type": "display_data"
    },
    {
     "data": {
      "application/vnd.jupyter.widget-view+json": {
       "model_id": "1a567ccb39af45a0b3bc12b0fba85a13",
       "version_major": 2,
       "version_minor": 0
      },
      "text/plain": [
       "  0%|          | 0/1000 [00:00<?, ?it/s]"
      ]
     },
     "metadata": {},
     "output_type": "display_data"
    },
    {
     "data": {
      "application/vnd.jupyter.widget-view+json": {
       "model_id": "e8f71d311e364b418dc1cc6f235fc311",
       "version_major": 2,
       "version_minor": 0
      },
      "text/plain": [
       "  0%|          | 0/1000 [00:00<?, ?it/s]"
      ]
     },
     "metadata": {},
     "output_type": "display_data"
    },
    {
     "data": {
      "application/vnd.jupyter.widget-view+json": {
       "model_id": "74a5787d6d4243ce99cf94470c055539",
       "version_major": 2,
       "version_minor": 0
      },
      "text/plain": [
       "  0%|          | 0/1000 [00:00<?, ?it/s]"
      ]
     },
     "metadata": {},
     "output_type": "display_data"
    },
    {
     "data": {
      "application/vnd.jupyter.widget-view+json": {
       "model_id": "3ab730d1cb8948a385627412d0ba6b92",
       "version_major": 2,
       "version_minor": 0
      },
      "text/plain": [
       "  0%|          | 0/1000 [00:00<?, ?it/s]"
      ]
     },
     "metadata": {},
     "output_type": "display_data"
    },
    {
     "data": {
      "application/vnd.jupyter.widget-view+json": {
       "model_id": "16b793248cf9443bb79bc80bcd04e079",
       "version_major": 2,
       "version_minor": 0
      },
      "text/plain": [
       "  0%|          | 0/1000 [00:00<?, ?it/s]"
      ]
     },
     "metadata": {},
     "output_type": "display_data"
    },
    {
     "data": {
      "application/vnd.jupyter.widget-view+json": {
       "model_id": "035ac2d374d64cb4b1cd925c9d6a6e12",
       "version_major": 2,
       "version_minor": 0
      },
      "text/plain": [
       "  0%|          | 0/1000 [00:00<?, ?it/s]"
      ]
     },
     "metadata": {},
     "output_type": "display_data"
    },
    {
     "data": {
      "application/vnd.jupyter.widget-view+json": {
       "model_id": "9c38f8781f294d6b9777da39d1f46283",
       "version_major": 2,
       "version_minor": 0
      },
      "text/plain": [
       "  0%|          | 0/1000 [00:00<?, ?it/s]"
      ]
     },
     "metadata": {},
     "output_type": "display_data"
    },
    {
     "data": {
      "application/vnd.jupyter.widget-view+json": {
       "model_id": "411956c17f7846e9b850bc170683fc33",
       "version_major": 2,
       "version_minor": 0
      },
      "text/plain": [
       "  0%|          | 0/1000 [00:00<?, ?it/s]"
      ]
     },
     "metadata": {},
     "output_type": "display_data"
    },
    {
     "data": {
      "application/vnd.jupyter.widget-view+json": {
       "model_id": "2634521f68cb487fb785329fc45bdd2a",
       "version_major": 2,
       "version_minor": 0
      },
      "text/plain": [
       "  0%|          | 0/1000 [00:00<?, ?it/s]"
      ]
     },
     "metadata": {},
     "output_type": "display_data"
    },
    {
     "data": {
      "application/vnd.jupyter.widget-view+json": {
       "model_id": "b7197939203a4af7b1290c8eb3e935a3",
       "version_major": 2,
       "version_minor": 0
      },
      "text/plain": [
       "  0%|          | 0/1000 [00:00<?, ?it/s]"
      ]
     },
     "metadata": {},
     "output_type": "display_data"
    }
   ],
   "source": [
    "# Hyper-parameters to sweep\n",
    "ALPHAS  = [0.05, 0.07, 0.10, 0.15]          # learning rates\n",
    "GAMMAS  = [0.90, 0.95, 0.99]                # discount factors\n",
    "N_EPIS  = 1000                              # keep as in main run\n",
    "\n",
    "results = []   # list of dicts for easy DataFrame\n",
    "\n",
    "for alpha, gamma in itertools.product(ALPHAS, GAMMAS):\n",
    "    # ── Q-Learning ─────────────────────────────────────────────────────\n",
    "    env = gym.make('Pendulum-v1')\n",
    "    Q_table, df_q = TD_control(env, DISCRETE_BUCKETS,\n",
    "                               STEP_FUNCTION=Q_LEARNING_STEP,\n",
    "                               num_iterations=N_EPIS,\n",
    "                               alpha=alpha, gamma=gamma)\n",
    "    env.close()\n",
    "    mean_last100 = df_q['Return'].tail(100).mean()\n",
    "    results.append({'Algo':'Q-Learning', 'alpha':alpha, 'gamma':gamma,\n",
    "                    'MeanReturn_Last100':mean_last100})\n",
    "\n",
    "    # ── SARSA ──────────────────────────────────────────────────────────\n",
    "    env = gym.make('Pendulum-v1')\n",
    "    S_table, df_sa = TD_control(env, DISCRETE_BUCKETS,\n",
    "                                STEP_FUNCTION=SARSA_STEP,\n",
    "                                num_iterations=N_EPIS,\n",
    "                                alpha=alpha, gamma=gamma)\n",
    "    env.close()\n",
    "    mean_last100 = df_sa['Return'].tail(100).mean()\n",
    "    results.append({'Algo':'SARSA', 'alpha':alpha, 'gamma':gamma,\n",
    "                    'MeanReturn_Last100':mean_last100})\n"
   ]
  },
  {
   "cell_type": "code",
   "execution_count": 481,
   "id": "8b7acd9a-2223-4c4f-817b-3052ceeb6271",
   "metadata": {},
   "outputs": [
    {
     "data": {
      "text/html": [
       "<style type=\"text/css\">\n",
       "</style>\n",
       "<table id=\"T_33823\">\n",
       "  <thead>\n",
       "    <tr>\n",
       "      <th class=\"blank level0\" >&nbsp;</th>\n",
       "      <th id=\"T_33823_level0_col0\" class=\"col_heading level0 col0\" >Algo</th>\n",
       "      <th id=\"T_33823_level0_col1\" class=\"col_heading level0 col1\" >alpha</th>\n",
       "      <th id=\"T_33823_level0_col2\" class=\"col_heading level0 col2\" >gamma</th>\n",
       "      <th id=\"T_33823_level0_col3\" class=\"col_heading level0 col3\" >MeanReturn_Last100</th>\n",
       "    </tr>\n",
       "  </thead>\n",
       "  <tbody>\n",
       "    <tr>\n",
       "      <th id=\"T_33823_level0_row0\" class=\"row_heading level0 row0\" >19</th>\n",
       "      <td id=\"T_33823_row0_col0\" class=\"data row0 col0\" >SARSA</td>\n",
       "      <td id=\"T_33823_row0_col1\" class=\"data row0 col1\" >0.150000</td>\n",
       "      <td id=\"T_33823_row0_col2\" class=\"data row0 col2\" >0.900000</td>\n",
       "      <td id=\"T_33823_row0_col3\" class=\"data row0 col3\" >-585.8</td>\n",
       "    </tr>\n",
       "    <tr>\n",
       "      <th id=\"T_33823_level0_row1\" class=\"row_heading level0 row1\" >20</th>\n",
       "      <td id=\"T_33823_row1_col0\" class=\"data row1 col0\" >Q-Learning</td>\n",
       "      <td id=\"T_33823_row1_col1\" class=\"data row1 col1\" >0.150000</td>\n",
       "      <td id=\"T_33823_row1_col2\" class=\"data row1 col2\" >0.950000</td>\n",
       "      <td id=\"T_33823_row1_col3\" class=\"data row1 col3\" >-639.8</td>\n",
       "    </tr>\n",
       "    <tr>\n",
       "      <th id=\"T_33823_level0_row2\" class=\"row_heading level0 row2\" >18</th>\n",
       "      <td id=\"T_33823_row2_col0\" class=\"data row2 col0\" >Q-Learning</td>\n",
       "      <td id=\"T_33823_row2_col1\" class=\"data row2 col1\" >0.150000</td>\n",
       "      <td id=\"T_33823_row2_col2\" class=\"data row2 col2\" >0.900000</td>\n",
       "      <td id=\"T_33823_row2_col3\" class=\"data row2 col3\" >-669.3</td>\n",
       "    </tr>\n",
       "    <tr>\n",
       "      <th id=\"T_33823_level0_row3\" class=\"row_heading level0 row3\" >21</th>\n",
       "      <td id=\"T_33823_row3_col0\" class=\"data row3 col0\" >SARSA</td>\n",
       "      <td id=\"T_33823_row3_col1\" class=\"data row3 col1\" >0.150000</td>\n",
       "      <td id=\"T_33823_row3_col2\" class=\"data row3 col2\" >0.950000</td>\n",
       "      <td id=\"T_33823_row3_col3\" class=\"data row3 col3\" >-687.6</td>\n",
       "    </tr>\n",
       "    <tr>\n",
       "      <th id=\"T_33823_level0_row4\" class=\"row_heading level0 row4\" >22</th>\n",
       "      <td id=\"T_33823_row4_col0\" class=\"data row4 col0\" >Q-Learning</td>\n",
       "      <td id=\"T_33823_row4_col1\" class=\"data row4 col1\" >0.150000</td>\n",
       "      <td id=\"T_33823_row4_col2\" class=\"data row4 col2\" >0.990000</td>\n",
       "      <td id=\"T_33823_row4_col3\" class=\"data row4 col3\" >-750.3</td>\n",
       "    </tr>\n",
       "    <tr>\n",
       "      <th id=\"T_33823_level0_row5\" class=\"row_heading level0 row5\" >15</th>\n",
       "      <td id=\"T_33823_row5_col0\" class=\"data row5 col0\" >SARSA</td>\n",
       "      <td id=\"T_33823_row5_col1\" class=\"data row5 col1\" >0.100000</td>\n",
       "      <td id=\"T_33823_row5_col2\" class=\"data row5 col2\" >0.950000</td>\n",
       "      <td id=\"T_33823_row5_col3\" class=\"data row5 col3\" >-758.0</td>\n",
       "    </tr>\n",
       "    <tr>\n",
       "      <th id=\"T_33823_level0_row6\" class=\"row_heading level0 row6\" >23</th>\n",
       "      <td id=\"T_33823_row6_col0\" class=\"data row6 col0\" >SARSA</td>\n",
       "      <td id=\"T_33823_row6_col1\" class=\"data row6 col1\" >0.150000</td>\n",
       "      <td id=\"T_33823_row6_col2\" class=\"data row6 col2\" >0.990000</td>\n",
       "      <td id=\"T_33823_row6_col3\" class=\"data row6 col3\" >-775.7</td>\n",
       "    </tr>\n",
       "    <tr>\n",
       "      <th id=\"T_33823_level0_row7\" class=\"row_heading level0 row7\" >13</th>\n",
       "      <td id=\"T_33823_row7_col0\" class=\"data row7 col0\" >SARSA</td>\n",
       "      <td id=\"T_33823_row7_col1\" class=\"data row7 col1\" >0.100000</td>\n",
       "      <td id=\"T_33823_row7_col2\" class=\"data row7 col2\" >0.900000</td>\n",
       "      <td id=\"T_33823_row7_col3\" class=\"data row7 col3\" >-811.7</td>\n",
       "    </tr>\n",
       "    <tr>\n",
       "      <th id=\"T_33823_level0_row8\" class=\"row_heading level0 row8\" >12</th>\n",
       "      <td id=\"T_33823_row8_col0\" class=\"data row8 col0\" >Q-Learning</td>\n",
       "      <td id=\"T_33823_row8_col1\" class=\"data row8 col1\" >0.100000</td>\n",
       "      <td id=\"T_33823_row8_col2\" class=\"data row8 col2\" >0.900000</td>\n",
       "      <td id=\"T_33823_row8_col3\" class=\"data row8 col3\" >-875.2</td>\n",
       "    </tr>\n",
       "    <tr>\n",
       "      <th id=\"T_33823_level0_row9\" class=\"row_heading level0 row9\" >7</th>\n",
       "      <td id=\"T_33823_row9_col0\" class=\"data row9 col0\" >SARSA</td>\n",
       "      <td id=\"T_33823_row9_col1\" class=\"data row9 col1\" >0.070000</td>\n",
       "      <td id=\"T_33823_row9_col2\" class=\"data row9 col2\" >0.900000</td>\n",
       "      <td id=\"T_33823_row9_col3\" class=\"data row9 col3\" >-877.2</td>\n",
       "    </tr>\n",
       "    <tr>\n",
       "      <th id=\"T_33823_level0_row10\" class=\"row_heading level0 row10\" >14</th>\n",
       "      <td id=\"T_33823_row10_col0\" class=\"data row10 col0\" >Q-Learning</td>\n",
       "      <td id=\"T_33823_row10_col1\" class=\"data row10 col1\" >0.100000</td>\n",
       "      <td id=\"T_33823_row10_col2\" class=\"data row10 col2\" >0.950000</td>\n",
       "      <td id=\"T_33823_row10_col3\" class=\"data row10 col3\" >-884.9</td>\n",
       "    </tr>\n",
       "    <tr>\n",
       "      <th id=\"T_33823_level0_row11\" class=\"row_heading level0 row11\" >6</th>\n",
       "      <td id=\"T_33823_row11_col0\" class=\"data row11 col0\" >Q-Learning</td>\n",
       "      <td id=\"T_33823_row11_col1\" class=\"data row11 col1\" >0.070000</td>\n",
       "      <td id=\"T_33823_row11_col2\" class=\"data row11 col2\" >0.900000</td>\n",
       "      <td id=\"T_33823_row11_col3\" class=\"data row11 col3\" >-925.5</td>\n",
       "    </tr>\n",
       "    <tr>\n",
       "      <th id=\"T_33823_level0_row12\" class=\"row_heading level0 row12\" >11</th>\n",
       "      <td id=\"T_33823_row12_col0\" class=\"data row12 col0\" >SARSA</td>\n",
       "      <td id=\"T_33823_row12_col1\" class=\"data row12 col1\" >0.070000</td>\n",
       "      <td id=\"T_33823_row12_col2\" class=\"data row12 col2\" >0.990000</td>\n",
       "      <td id=\"T_33823_row12_col3\" class=\"data row12 col3\" >-944.1</td>\n",
       "    </tr>\n",
       "    <tr>\n",
       "      <th id=\"T_33823_level0_row13\" class=\"row_heading level0 row13\" >9</th>\n",
       "      <td id=\"T_33823_row13_col0\" class=\"data row13 col0\" >SARSA</td>\n",
       "      <td id=\"T_33823_row13_col1\" class=\"data row13 col1\" >0.070000</td>\n",
       "      <td id=\"T_33823_row13_col2\" class=\"data row13 col2\" >0.950000</td>\n",
       "      <td id=\"T_33823_row13_col3\" class=\"data row13 col3\" >-959.0</td>\n",
       "    </tr>\n",
       "    <tr>\n",
       "      <th id=\"T_33823_level0_row14\" class=\"row_heading level0 row14\" >17</th>\n",
       "      <td id=\"T_33823_row14_col0\" class=\"data row14 col0\" >SARSA</td>\n",
       "      <td id=\"T_33823_row14_col1\" class=\"data row14 col1\" >0.100000</td>\n",
       "      <td id=\"T_33823_row14_col2\" class=\"data row14 col2\" >0.990000</td>\n",
       "      <td id=\"T_33823_row14_col3\" class=\"data row14 col3\" >-960.1</td>\n",
       "    </tr>\n",
       "    <tr>\n",
       "      <th id=\"T_33823_level0_row15\" class=\"row_heading level0 row15\" >8</th>\n",
       "      <td id=\"T_33823_row15_col0\" class=\"data row15 col0\" >Q-Learning</td>\n",
       "      <td id=\"T_33823_row15_col1\" class=\"data row15 col1\" >0.070000</td>\n",
       "      <td id=\"T_33823_row15_col2\" class=\"data row15 col2\" >0.950000</td>\n",
       "      <td id=\"T_33823_row15_col3\" class=\"data row15 col3\" >-976.6</td>\n",
       "    </tr>\n",
       "    <tr>\n",
       "      <th id=\"T_33823_level0_row16\" class=\"row_heading level0 row16\" >10</th>\n",
       "      <td id=\"T_33823_row16_col0\" class=\"data row16 col0\" >Q-Learning</td>\n",
       "      <td id=\"T_33823_row16_col1\" class=\"data row16 col1\" >0.070000</td>\n",
       "      <td id=\"T_33823_row16_col2\" class=\"data row16 col2\" >0.990000</td>\n",
       "      <td id=\"T_33823_row16_col3\" class=\"data row16 col3\" >-1006.1</td>\n",
       "    </tr>\n",
       "    <tr>\n",
       "      <th id=\"T_33823_level0_row17\" class=\"row_heading level0 row17\" >1</th>\n",
       "      <td id=\"T_33823_row17_col0\" class=\"data row17 col0\" >SARSA</td>\n",
       "      <td id=\"T_33823_row17_col1\" class=\"data row17 col1\" >0.050000</td>\n",
       "      <td id=\"T_33823_row17_col2\" class=\"data row17 col2\" >0.900000</td>\n",
       "      <td id=\"T_33823_row17_col3\" class=\"data row17 col3\" >-1007.6</td>\n",
       "    </tr>\n",
       "    <tr>\n",
       "      <th id=\"T_33823_level0_row18\" class=\"row_heading level0 row18\" >16</th>\n",
       "      <td id=\"T_33823_row18_col0\" class=\"data row18 col0\" >Q-Learning</td>\n",
       "      <td id=\"T_33823_row18_col1\" class=\"data row18 col1\" >0.100000</td>\n",
       "      <td id=\"T_33823_row18_col2\" class=\"data row18 col2\" >0.990000</td>\n",
       "      <td id=\"T_33823_row18_col3\" class=\"data row18 col3\" >-1016.0</td>\n",
       "    </tr>\n",
       "    <tr>\n",
       "      <th id=\"T_33823_level0_row19\" class=\"row_heading level0 row19\" >0</th>\n",
       "      <td id=\"T_33823_row19_col0\" class=\"data row19 col0\" >Q-Learning</td>\n",
       "      <td id=\"T_33823_row19_col1\" class=\"data row19 col1\" >0.050000</td>\n",
       "      <td id=\"T_33823_row19_col2\" class=\"data row19 col2\" >0.900000</td>\n",
       "      <td id=\"T_33823_row19_col3\" class=\"data row19 col3\" >-1047.5</td>\n",
       "    </tr>\n",
       "    <tr>\n",
       "      <th id=\"T_33823_level0_row20\" class=\"row_heading level0 row20\" >5</th>\n",
       "      <td id=\"T_33823_row20_col0\" class=\"data row20 col0\" >SARSA</td>\n",
       "      <td id=\"T_33823_row20_col1\" class=\"data row20 col1\" >0.050000</td>\n",
       "      <td id=\"T_33823_row20_col2\" class=\"data row20 col2\" >0.990000</td>\n",
       "      <td id=\"T_33823_row20_col3\" class=\"data row20 col3\" >-1048.8</td>\n",
       "    </tr>\n",
       "    <tr>\n",
       "      <th id=\"T_33823_level0_row21\" class=\"row_heading level0 row21\" >2</th>\n",
       "      <td id=\"T_33823_row21_col0\" class=\"data row21 col0\" >Q-Learning</td>\n",
       "      <td id=\"T_33823_row21_col1\" class=\"data row21 col1\" >0.050000</td>\n",
       "      <td id=\"T_33823_row21_col2\" class=\"data row21 col2\" >0.950000</td>\n",
       "      <td id=\"T_33823_row21_col3\" class=\"data row21 col3\" >-1054.5</td>\n",
       "    </tr>\n",
       "    <tr>\n",
       "      <th id=\"T_33823_level0_row22\" class=\"row_heading level0 row22\" >3</th>\n",
       "      <td id=\"T_33823_row22_col0\" class=\"data row22 col0\" >SARSA</td>\n",
       "      <td id=\"T_33823_row22_col1\" class=\"data row22 col1\" >0.050000</td>\n",
       "      <td id=\"T_33823_row22_col2\" class=\"data row22 col2\" >0.950000</td>\n",
       "      <td id=\"T_33823_row22_col3\" class=\"data row22 col3\" >-1076.5</td>\n",
       "    </tr>\n",
       "    <tr>\n",
       "      <th id=\"T_33823_level0_row23\" class=\"row_heading level0 row23\" >4</th>\n",
       "      <td id=\"T_33823_row23_col0\" class=\"data row23 col0\" >Q-Learning</td>\n",
       "      <td id=\"T_33823_row23_col1\" class=\"data row23 col1\" >0.050000</td>\n",
       "      <td id=\"T_33823_row23_col2\" class=\"data row23 col2\" >0.990000</td>\n",
       "      <td id=\"T_33823_row23_col3\" class=\"data row23 col3\" >-1106.6</td>\n",
       "    </tr>\n",
       "  </tbody>\n",
       "</table>\n"
      ],
      "text/plain": [
       "<pandas.io.formats.style.Styler at 0x15e4a43d0>"
      ]
     },
     "metadata": {},
     "output_type": "display_data"
    }
   ],
   "source": [
    "df_grid = pd.DataFrame(results)\n",
    "df_grid = df_grid.sort_values('MeanReturn_Last100', ascending=False)   # higher (closer to 0) is better\n",
    "display(df_grid.style.format({'MeanReturn_Last100':'{:.1f}'}))"
   ]
  },
  {
   "cell_type": "code",
   "execution_count": 482,
   "id": "e5bfe585-325f-41b5-b7e2-c59daed6c453",
   "metadata": {},
   "outputs": [
    {
     "name": "stdout",
     "output_type": "stream",
     "text": [
      "Best Q-Learning  →  alpha=0.15, gamma=0.95\n",
      "Best SARSA       →  alpha=0.15, gamma=0.9\n"
     ]
    }
   ],
   "source": [
    "# Best params per algorithm\n",
    "best_rows = df_grid.loc[df_grid.groupby('Algo')['MeanReturn_Last100'].idxmax()]\n",
    "\n",
    "best_alpha_q = best_rows.loc[best_rows['Algo']=='Q-Learning', 'alpha'].values[0]\n",
    "best_gamma_q = best_rows.loc[best_rows['Algo']=='Q-Learning', 'gamma'].values[0]\n",
    "\n",
    "best_alpha_s = best_rows.loc[best_rows['Algo']=='SARSA', 'alpha'].values[0]\n",
    "best_gamma_s = best_rows.loc[best_rows['Algo']=='SARSA', 'gamma'].values[0]\n",
    "\n",
    "print(f\"Best Q-Learning  →  alpha={best_alpha_q}, gamma={best_gamma_q}\")\n",
    "print(f\"Best SARSA       →  alpha={best_alpha_s}, gamma={best_gamma_s}\")\n"
   ]
  },
  {
   "cell_type": "code",
   "execution_count": 483,
   "id": "1865cd46-a9d8-4bfc-9f5f-236b8ddad6e2",
   "metadata": {},
   "outputs": [
    {
     "data": {
      "application/vnd.jupyter.widget-view+json": {
       "model_id": "a1accf93fe1f4093bb8f6277cc803257",
       "version_major": 2,
       "version_minor": 0
      },
      "text/plain": [
       "  0%|          | 0/5000 [00:00<?, ?it/s]"
      ]
     },
     "metadata": {},
     "output_type": "display_data"
    },
    {
     "data": {
      "application/vnd.jupyter.widget-view+json": {
       "model_id": "cc890e9a68d540f5aebbf1cca266ec19",
       "version_major": 2,
       "version_minor": 0
      },
      "text/plain": [
       "  0%|          | 0/5000 [00:00<?, ?it/s]"
      ]
     },
     "metadata": {},
     "output_type": "display_data"
    }
   ],
   "source": [
    "# 2. Final training with best hyper-params\n",
    "N_EPIS_FINAL = 5000   # keep same or extend\n",
    "\n",
    "env = gym.make('Pendulum-v1')\n",
    "Q_table_Q, Q_return_df = TD_control(env, DISCRETE_BUCKETS,\n",
    "                                    STEP_FUNCTION=Q_LEARNING_STEP,\n",
    "                                    num_iterations=N_EPIS_FINAL,\n",
    "                                    alpha=best_alpha_q,\n",
    "                                    gamma=best_gamma_q)\n",
    "env.close()\n",
    "\n",
    "env = gym.make('Pendulum-v1')\n",
    "SARSA_Q_table, SARSA_return_df = TD_control(env, DISCRETE_BUCKETS,\n",
    "                                            STEP_FUNCTION=SARSA_STEP,\n",
    "                                            num_iterations=N_EPIS_FINAL,\n",
    "                                            alpha=best_alpha_s,\n",
    "                                            gamma=best_gamma_s)\n",
    "env.close()"
   ]
  },
  {
   "cell_type": "markdown",
   "id": "e5b6fa49-1ea7-4932-9d51-1dec699d4030",
   "metadata": {},
   "source": [
    "# Visualise learning curves"
   ]
  },
  {
   "cell_type": "code",
   "execution_count": 484,
   "id": "1ad63208-f51a-47eb-a817-e64462f852c7",
   "metadata": {},
   "outputs": [
    {
     "data": {
      "image/png": "[encoded data removed]",
      "text/plain": [
       "<Figure size 1200x500 with 1 Axes>"
      ]
     },
     "metadata": {},
     "output_type": "display_data"
    }
   ],
   "source": [
    "# 3. Consolidate and plot\n",
    "Q_return_df.rename(columns={'Return':'Return_Q'}, inplace=True)\n",
    "SARSA_return_df.rename(columns={'Return':'Return_SARSA'}, inplace=True)\n",
    "df_eval = Q_return_df[['Episode','Return_Q']].merge(\n",
    "            SARSA_return_df[['Episode','Return_SARSA']], on='Episode')\n",
    "\n",
    "df_eval['MA_Q']     = df_eval['Return_Q'].rolling(20, min_periods=1).mean()\n",
    "df_eval['MA_SARSA'] = df_eval['Return_SARSA'].rolling(20, min_periods=1).mean()\n",
    "\n",
    "plt.figure(figsize=(12,5))\n",
    "plt.plot(df_eval['Episode'], df_eval['Return_Q'],     alpha=.3, label='Q-Learning (raw)')\n",
    "plt.plot(df_eval['Episode'], df_eval['Return_SARSA'], alpha=.3, label='SARSA (raw)')\n",
    "plt.plot(df_eval['Episode'], df_eval['MA_Q'],         lw=2, label='Q-Learning (MA-20)')\n",
    "plt.plot(df_eval['Episode'], df_eval['MA_SARSA'],     lw=2, label='SARSA (MA-20)')\n",
    "plt.axhline(-250, ls='--', c='gray');               # reference\n",
    "plt.title('Pendulum-v1 · Return per Episode (best hyper-params)')\n",
    "plt.xlabel('Episode'); plt.ylabel('Total Reward'); plt.legend(); plt.show()\n"
   ]
  },
  {
   "cell_type": "markdown",
   "id": "95b0f42c-9ff6-4cda-a82e-8a88b68afd29",
   "metadata": {},
   "source": [
    "# One greedy run for each policy (render)"
   ]
  },
  {
   "cell_type": "code",
   "execution_count": 513,
   "id": "f090ac81-1ee1-420a-8cfc-8e12c519a70f",
   "metadata": {},
   "outputs": [],
   "source": [
    "# 4. One greedy episode each\n",
    "def run_greedy_episode(env, Q_table, title):\n",
    "    state = env.reset()[0]; RETURN = 0; Done = False\n",
    "    while not Done:\n",
    "        ds = discretised_state(DISCRETE_BUCKETS, state)\n",
    "        a_idx = int(np.argmax(Q_table[ds]))\n",
    "        state, r, term, trunc, _ = env.step([float(DISCRETE_ACTIONS[a_idx])])\n",
    "        Done = term or trunc; RETURN += r\n",
    "    print(f\"{title} · total reward: {RETURN:.1f}\")"
   ]
  },
  {
   "cell_type": "code",
   "execution_count": 515,
   "id": "60510860-a916-4774-b69e-ccc783232625",
   "metadata": {},
   "outputs": [
    {
     "name": "stdout",
     "output_type": "stream",
     "text": [
      "Q-Learning (greedy) · total reward: -246.3\n"
     ]
    }
   ],
   "source": [
    "# Q-Learning\n",
    "env_vis = gym.make('Pendulum-v1', render_mode='human')\n",
    "run_greedy_episode(env_vis, Q_table_Q, 'Q-Learning (greedy)')\n",
    "env_vis.close()"
   ]
  },
  {
   "cell_type": "code",
   "execution_count": 519,
   "id": "0e4b29d2-28ad-4c97-bc74-a602da7e7f12",
   "metadata": {},
   "outputs": [
    {
     "name": "stdout",
     "output_type": "stream",
     "text": [
      "SARSA (greedy) · total reward: -126.3\n"
     ]
    }
   ],
   "source": [
    "# SARSA\n",
    "env_vis = gym.make('Pendulum-v1', render_mode='human')\n",
    "run_greedy_episode(env_vis, SARSA_Q_table, 'SARSA (greedy)')\n",
    "env_vis.close()\n"
   ]
  },
  {
   "cell_type": "markdown",
   "id": "91556b5c-730d-46fe-9996-a32ccb3779de",
   "metadata": {},
   "source": [
    "# Comparative metrics summary"
   ]
  },
  {
   "cell_type": "code",
   "execution_count": 522,
   "id": "c1d3025f-3108-4990-8339-af909b6c6705",
   "metadata": {},
   "outputs": [],
   "source": [
    "# 5. Summary table\n",
    "def summarise(df, col):\n",
    "    return df[col].rolling(100).mean().max(), df[col].tail(100).mean()\n"
   ]
  },
  {
   "cell_type": "code",
   "execution_count": 524,
   "id": "1eb9238d-47c1-41f7-94af-8aeb2bc4ad22",
   "metadata": {},
   "outputs": [
    {
     "data": {
      "text/html": [
       "<div>\n",
       "<style scoped>\n",
       "    .dataframe tbody tr th:only-of-type {\n",
       "        vertical-align: middle;\n",
       "    }\n",
       "\n",
       "    .dataframe tbody tr th {\n",
       "        vertical-align: top;\n",
       "    }\n",
       "\n",
       "    .dataframe thead th {\n",
       "        text-align: right;\n",
       "    }\n",
       "</style>\n",
       "<table border=\"1\" class=\"dataframe\">\n",
       "  <thead>\n",
       "    <tr style=\"text-align: right;\">\n",
       "      <th></th>\n",
       "      <th>Algorithm</th>\n",
       "      <th>Best 100-ep mean</th>\n",
       "      <th>Final 100-ep mean</th>\n",
       "      <th>α</th>\n",
       "      <th>γ</th>\n",
       "    </tr>\n",
       "  </thead>\n",
       "  <tbody>\n",
       "    <tr>\n",
       "      <th>0</th>\n",
       "      <td>Q-Learning</td>\n",
       "      <td>-170.391115</td>\n",
       "      <td>-170.391115</td>\n",
       "      <td>0.15</td>\n",
       "      <td>0.95</td>\n",
       "    </tr>\n",
       "    <tr>\n",
       "      <th>1</th>\n",
       "      <td>SARSA</td>\n",
       "      <td>-172.476328</td>\n",
       "      <td>-176.986032</td>\n",
       "      <td>0.15</td>\n",
       "      <td>0.90</td>\n",
       "    </tr>\n",
       "  </tbody>\n",
       "</table>\n",
       "</div>"
      ],
      "text/plain": [
       "    Algorithm  Best 100-ep mean  Final 100-ep mean     α     γ\n",
       "0  Q-Learning       -170.391115        -170.391115  0.15  0.95\n",
       "1       SARSA       -172.476328        -176.986032  0.15  0.90"
      ]
     },
     "execution_count": 524,
     "metadata": {},
     "output_type": "execute_result"
    }
   ],
   "source": [
    "best_q, fin_q  = summarise(df_eval, 'Return_Q')\n",
    "best_s, fin_s  = summarise(df_eval, 'Return_SARSA')\n",
    "\n",
    "summary = pd.DataFrame([\n",
    "        ['Q-Learning', best_q, fin_q, best_alpha_q, best_gamma_q],\n",
    "        ['SARSA',      best_s, fin_s, best_alpha_s, best_gamma_s]],\n",
    "    columns=['Algorithm','Best 100-ep mean','Final 100-ep mean','α','γ'])\n",
    "summary"
   ]
  },
  {
   "cell_type": "code",
   "execution_count": null,
   "id": "612d119e-1e11-4a9f-9fed-34b2613f40e9",
   "metadata": {},
   "outputs": [],
   "source": []
  },
  {
   "cell_type": "code",
   "execution_count": null,
   "id": "a9dba3dd-4eb4-42cc-bf38-8b2503d425a6",
   "metadata": {},
   "outputs": [],
   "source": []
  }
 ],
 "metadata": {
  "kernelspec": {
   "display_name": "Python (rl)",
   "language": "python",
   "name": "rl"
  },
  "language_info": {
   "codemirror_mode": {
    "name": "ipython",
    "version": 3
   },
   "file_extension": ".py",
   "mimetype": "text/x-python",
   "name": "python",
   "nbconvert_exporter": "python",
   "pygments_lexer": "ipython3",
   "version": "3.11.13"
  }
 },
 "nbformat": 4,
 "nbformat_minor": 5
}
